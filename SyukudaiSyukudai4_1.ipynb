{
  "nbformat": 4,
  "nbformat_minor": 0,
  "metadata": {
    "colab": {
      "provenance": []
    },
    "kernelspec": {
      "name": "python3",
      "display_name": "Python 3"
    },
    "language_info": {
      "name": "python"
    }
  },
  "cells": [
    {
      "cell_type": "code",
      "source": [
        "#A\n",
        "for i in range(0,6):\n",
        "    print(f\"繰り返し{i}回目。\")"
      ],
      "metadata": {
        "colab": {
          "base_uri": "https://localhost:8080/"
        },
        "id": "Z1oB9u_HeaUe",
        "outputId": "b408e6ad-9bb5-4c8c-f700-22e26f08a1f9"
      },
      "execution_count": 10,
      "outputs": [
        {
          "output_type": "stream",
          "name": "stdout",
          "text": [
            "繰り返し0回目。\n",
            "繰り返し1回目。\n",
            "繰り返し2回目。\n",
            "繰り返し3回目。\n",
            "繰り返し4回目。\n",
            "繰り返し5回目。\n"
          ]
        }
      ]
    },
    {
      "cell_type": "code",
      "source": [
        "#B\n",
        "movies = [\"パイレーツ\",\n",
        "          \"マトリックス\",\n",
        "          \"怪物\",\n",
        "          \"究極の選択\",\n",
        "          \"７つの大罪\",\n",
        "          \"ブレイキングバッド\"]\n",
        "\n",
        "for i in movies:\n",
        "    print(f\"１つ目の映画は{i}です。\")"
      ],
      "metadata": {
        "colab": {
          "base_uri": "https://localhost:8080/"
        },
        "id": "SxxQXSJvlYFK",
        "outputId": "23267b39-2faf-4270-f95a-f934df3d5892"
      },
      "execution_count": 11,
      "outputs": [
        {
          "output_type": "stream",
          "name": "stdout",
          "text": [
            "１つ目の映画はパイレーツです。\n",
            "１つ目の映画はマトリックスです。\n",
            "１つ目の映画は怪物です。\n",
            "１つ目の映画は究極の選択です。\n",
            "１つ目の映画は７つの大罪です。\n",
            "１つ目の映画はブレイキングバッドです。\n"
          ]
        }
      ]
    },
    {
      "cell_type": "code",
      "source": [],
      "metadata": {
        "id": "gMuTyYGwnXIu"
      },
      "execution_count": null,
      "outputs": []
    }
  ]
}