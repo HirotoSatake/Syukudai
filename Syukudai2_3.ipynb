{
  "nbformat": 4,
  "nbformat_minor": 0,
  "metadata": {
    "colab": {
      "provenance": []
    },
    "kernelspec": {
      "name": "python3",
      "display_name": "Python 3"
    },
    "language_info": {
      "name": "python"
    }
  },
  "cells": [
    {
      "cell_type": "code",
      "source": [
        "import random\n",
        "\n",
        "# Productクラス①\n",
        "class Product:\n",
        "    def __init__(self, name, price, stock,category):\n",
        "        self.name = name\n",
        "        self.price = price\n",
        "        self.stock = stock\n",
        "        self.category = category\n",
        "\n",
        "    # 在庫数を更新する関数②\n",
        "    def update_stock(self, sold):\n",
        "        if sold <= self.stock:\n",
        "            self.stock -= sold\n",
        "        else:\n",
        "            print(\"在庫が足りません。\")\n",
        "\n",
        "\n",
        "# ４つの映画のリスト（タイトル、値段、在庫数、カテゴリ）③\n",
        "products = [\n",
        "    Product(\"ターミネーター\", 1500, 100,\"A\"),\n",
        "    Product(\"スパイダーマン\", 1500, 100,\"A\"),\n",
        "    Product(\"パイレーツ\", 1200, 80,\"B\"),\n",
        "    Product(\"パイレーツ２\", 1200, 80,\"B\"),\n",
        "    Product(\"ブレイキングバッド\", 1000, 120,\"C\"),\n",
        "    Product(\"ブレイキングバッド３\", 1000, 120,\"C\"),\n",
        "    Product(\"マトリックス\", 1800, 50,\"D\"),\n",
        "    Product(\"マトリックス１０\", 1800, 50,\"D\")\n",
        "]\n",
        "\n",
        "#カテゴリの辞書\n",
        "categories = {\n",
        "\"Action\":\"A\",\n",
        "\"SF\":\"B\",\n",
        "\"horror\":\"C\",\n",
        "\"human\":\"D\"\n",
        "}\n",
        "\n",
        "# 売上金額が一番高かった商品を更新する為の変数④\n",
        "top_product_name = \"\"\n",
        "top_sales = 0\n",
        "#top_categories_name = \"\"\n",
        "\n",
        "# カテゴリごとの売上を記録する辞書\n",
        "category_sales = {category_name: 0 for category_name in categories.keys()}\n",
        "\n",
        "# 各商品について売れた数をランダムに生成し、売上金額を計算⑤\n",
        "for product in products:\n",
        "    sold = random.randint(0,product.stock)\n",
        "    total_sales = product.price * sold\n",
        "\n",
        "    product.update_stock(sold)\n",
        "\n",
        "    for category_name, category_ID in categories.items():\n",
        "        if product.category == category_ID:\n",
        "            category_sales[category_name] += total_sales\n",
        "\n",
        "    # 売上が最大の時に更新⑥\n",
        "    if total_sales > top_sales:\n",
        "        top_sales = total_sales\n",
        "        top_product_name = product.name\n",
        "\n",
        "top_categories_name = max(category_sales,key=category_sales.get)\n",
        "\n",
        "# 結果を表示⑦\n",
        "print(f\"一番売上が高かったのは「{top_product_name}」で、{top_sales}円でした。\")\n",
        "print(f\"カテゴリ別では、「{top_categories_name}」カテゴリが最も売れました。カテゴリ別売上内訳: {category_sales}円\")"
      ],
      "metadata": {
        "id": "IVqnI3gAJ11V",
        "colab": {
          "base_uri": "https://localhost:8080/"
        },
        "outputId": "5412c21d-dadd-4a11-e08d-42892fde043f"
      },
      "execution_count": 34,
      "outputs": [
        {
          "output_type": "stream",
          "name": "stdout",
          "text": [
            "一番売上が高かったのは「ターミネーター」で、141000円でした。\n",
            "カテゴリ別では、「Action」カテゴリが最も売れました。カテゴリ別売上内訳: {'Action': 247500, 'SF': 57600, 'horror': 195000, 'human': 102600}円\n"
          ]
        }
      ]
    },
    {
      "cell_type": "code",
      "source": [],
      "metadata": {
        "id": "sYj9po6VKmKx"
      },
      "execution_count": null,
      "outputs": []
    }
  ]
}