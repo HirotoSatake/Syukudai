{
  "nbformat": 4,
  "nbformat_minor": 0,
  "metadata": {
    "colab": {
      "provenance": []
    },
    "kernelspec": {
      "name": "python3",
      "display_name": "Python 3"
    },
    "language_info": {
      "name": "python"
    }
  },
  "cells": [
    {
      "cell_type": "code",
      "source": [
        "#電卓を作ろう\n",
        "\n",
        "def calcurator(a,b,operator):\n",
        "    if operator == \"+\":\n",
        "        result = a + b\n",
        "    elif operator == \"-\":\n",
        "        result = a - b\n",
        "    elif operator == \"*\":\n",
        "        result = a * b\n",
        "    elif operator == \"/\":\n",
        "        result = a / b\n",
        "    return result\n",
        "\n",
        "a = float(input(\"一つ目の数値を入力してください。:\"))\n",
        "b = float(input(\"二つ目の数値を入力してください。:\"))\n",
        "operator = input(\"演算子を入力してください(+,-,*,/):\")\n",
        "\n",
        "result = calcurator(a,b,operator)\n",
        "print(\"計算結果は\" , result)"
      ],
      "metadata": {
        "colab": {
          "base_uri": "https://localhost:8080/"
        },
        "id": "fIIYif7NryEo",
        "outputId": "cfcef79c-c999-40f0-c559-b6f1edf7e5fb"
      },
      "execution_count": 16,
      "outputs": [
        {
          "output_type": "stream",
          "name": "stdout",
          "text": [
            "一つ目の数値を入力してください。:21\n",
            "二つ目の数値を入力してください。:21\n",
            "演算子を入力してください(+,-,*,/):+\n",
            "計算結果は 42.0\n"
          ]
        }
      ]
    },
    {
      "cell_type": "code",
      "source": [],
      "metadata": {
        "id": "aQO9SXPfiJtF"
      },
      "execution_count": null,
      "outputs": []
    }
  ]
}