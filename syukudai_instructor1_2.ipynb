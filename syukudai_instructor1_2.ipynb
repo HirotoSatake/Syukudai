{
  "nbformat": 4,
  "nbformat_minor": 0,
  "metadata": {
    "colab": {
      "provenance": [],
      "gpuType": "T4"
    },
    "kernelspec": {
      "name": "python3",
      "display_name": "Python 3"
    },
    "language_info": {
      "name": "python"
    },
    "accelerator": "GPU"
  },
  "cells": [
    {
      "cell_type": "code",
      "source": [
        "import random\n",
        "\n",
        "class Dice:  #ダイスのクラス\n",
        "    def __init__(self, color):\n",
        "        self.color = color  # サイコロの色を格納\n",
        "        self.total_score = 0  # 合計得点\n",
        "        self.rolls = []  # サイコロの振った結果を保存するリスト\n",
        "\n",
        "    def saikoro(self):  # サイコロを1回振るメソッド\n",
        "        roll = random.randint(1, 6)\n",
        "        self.rolls.append(roll)\n",
        "        self.total_score += roll\n",
        "\n",
        "\n",
        "    def saikoro15(self):  # サイコロを15回振るメソッド\n",
        "        for i in range(1, 16):\n",
        "            self.saikoro()  # 1回振って結果を記録\n",
        "        print(f\"{self.color}のサイコロの合計値は {self.total_score} です。\")\n",
        "\n",
        "\n",
        "# サイコロを色別でインスタンス化\n",
        "red_dice = Dice(\"赤色\")\n",
        "blue_dice = Dice(\"青色\")\n",
        "yellow_dice = Dice(\"黄色\")\n",
        "\n",
        "\n",
        "# それぞれのサイコロを15回振る\n",
        "red_dice.saikoro15()\n",
        "blue_dice.saikoro15()\n",
        "yellow_dice.saikoro15()\n",
        "\n",
        "# max関数を使い、最大値を取得しmax_scoreに代入\n",
        "max_score = max(red_dice.total_score, blue_dice.total_score, yellow_dice.total_score)\n",
        "\n",
        "# どのサイコロが最大かを判定\n",
        "if max_score == red_dice.total_score:\n",
        "    print(f\"得点は {red_dice.total_score} で、{red_dice.color}が一番大きいです。\")\n",
        "elif max_score == blue_dice.total_score:\n",
        "    print(f\"得点は{blue_dice.total_score}で、{blue_dice.color}が一番大きいです。\")\n",
        "elif max_score == yellow_dice.total_score:\n",
        "    print(f\"得点は{yellow_dice.total_score}で、{yellow_dice.color}が一番大きいです。\")"
      ],
      "metadata": {
        "colab": {
          "base_uri": "https://localhost:8080/"
        },
        "id": "H-bKHLxg0hlt",
        "outputId": "48169449-e0e2-4ca6-d9f4-4a87f8d185d0"
      },
      "execution_count": 27,
      "outputs": [
        {
          "output_type": "stream",
          "name": "stdout",
          "text": [
            "赤色のサイコロの合計値は 56 です。\n",
            "青色のサイコロの合計値は 57 です。\n",
            "黄色のサイコロの合計値は 64 です。\n",
            "得点は64で、黄色が一番大きいです。\n"
          ]
        }
      ]
    },
    {
      "cell_type": "code",
      "source": [],
      "metadata": {
        "id": "WZVAmxi82JZW"
      },
      "execution_count": 25,
      "outputs": []
    }
  ]
}