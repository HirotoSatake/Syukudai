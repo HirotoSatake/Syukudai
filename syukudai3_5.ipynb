{
  "nbformat": 4,
  "nbformat_minor": 0,
  "metadata": {
    "colab": {
      "provenance": []
    },
    "kernelspec": {
      "name": "python3",
      "display_name": "Python 3"
    },
    "language_info": {
      "name": "python"
    }
  },
  "cells": [
    {
      "cell_type": "code",
      "execution_count": 6,
      "metadata": {
        "colab": {
          "base_uri": "https://localhost:8080/"
        },
        "id": "f1J_ULRD38_7",
        "outputId": "6b7901ad-c79b-4bd8-c63e-cc7488adc7fd"
      },
      "outputs": [
        {
          "output_type": "stream",
          "name": "stdout",
          "text": [
            "登録する個数を入力して下さい。：1\n",
            "タイトルを入力して下さい。:kaka\n",
            "値段を入力して下さい。:100\n",
            "在庫数を入力して下さい。:300\n",
            "カテゴリを入力して下さい。:koko\n",
            "kakaの販売数を入力してください。200\n",
            "売れ筋商品です。\n",
            "一番売上が高かったのは「kaka」で、20000円でした。\n",
            "カテゴリ別では、「koko」カテゴリが最も売れました。カテゴリ別売上内訳: {'koko': 20000}円\n"
          ]
        }
      ],
      "source": [
        "\n",
        "# Productクラス\n",
        "class Product:\n",
        "    def __init__(self, name, price, stock, category):\n",
        "        self.name = name\n",
        "        self.price = price\n",
        "        self.stock = stock\n",
        "        self.category = category  # 文字列のカテゴリ名\n",
        "\n",
        "    #在庫数を更新する関数\n",
        "    def update_stock(self, sold):\n",
        "        if sold <= self.stock:\n",
        "            self.stock -= sold\n",
        "        else:\n",
        "            print(f\"在庫が足りません（{self.name}）\")\n",
        "\n",
        "    #在庫数チェック関数\n",
        "    def check_stock(self,stock):\n",
        "        if self.stock <= 10:\n",
        "            a = \"これは販売促進対象商品です。\"\n",
        "            return a\n",
        "        elif self.stock > 10:\n",
        "            b = \"これは売れ筋商品です。\"\n",
        "            return b\n",
        "\n",
        "products = []\n",
        "\n",
        "#タイトル入力の回数を最初に入力\n",
        "count_title = int(input(\"登録する個数を入力して下さい。：\"))\n",
        "#その数だけ入力できるようにする。(count_titleの数だけ0,1,2...を（name、price,stock、category）と回していく。)\n",
        "for i in range(count_title):\n",
        "    name = input(\"タイトルを入力して下さい。:\")\n",
        "    price = int(input(\"値段を入力して下さい。:\"))\n",
        "    stock = int(input(\"在庫数を入力して下さい。:\"))\n",
        "    category = input(\"カテゴリを入力して下さい。:\")\n",
        "    products.append(Product(name,price,stock,category))\n",
        "\n",
        "#カテゴリごとの売上を記録する辞書\n",
        "category_sales = {}\n",
        "\n",
        "#売上金額が一番高かった商品を更新するための変数\n",
        "top_product_name = \"\"\n",
        "top_sales = 0\n",
        "\n",
        "#各商品の売上を計算\n",
        "for product in products:\n",
        "    sold =int(input(f\"{product.name}の販売数を入力してください。\"))#inputによって入力した数字をsoldに代入する。\n",
        "    total_sales = product.price * sold  # 売上金額を計算\n",
        "\n",
        "    product.update_stock(sold)  # 在庫更新\n",
        "\n",
        "    #product.check_stock(stock) #在庫数チェック関数\n",
        "    print(product.check_stock(stock))\n",
        "\n",
        "    #カテゴリごとの売上を記録\n",
        "    if product.category not in category_sales:\n",
        "        category_sales[product.category] = 0\n",
        "        category_sales[product.category] += total_sales\n",
        "\n",
        "    #売上が最大の時に更新\n",
        "    if total_sales > top_sales:\n",
        "        top_sales = total_sales\n",
        "        top_product_name = product.name\n",
        "\n",
        "#最も売れたカテゴリを取得\n",
        "top_categories_name = max(category_sales, key=category_sales.get)\n",
        "\n",
        "#結果を出力\n",
        "print(f\"一番売上が高かったのは「{top_product_name}」で、{top_sales}円でした。\")\n",
        "print(f\"カテゴリ別では、「{top_categories_name}」カテゴリが最も売れました。カテゴリ別売上内訳: {category_sales}円\")\n",
        ""
      ]
    },
    {
      "cell_type": "code",
      "source": [
        "\n"
      ],
      "metadata": {
        "id": "b7Poga1I-YyV"
      },
      "execution_count": null,
      "outputs": []
    }
  ]
}