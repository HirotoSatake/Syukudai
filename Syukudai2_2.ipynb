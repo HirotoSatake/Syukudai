{
  "nbformat": 4,
  "nbformat_minor": 0,
  "metadata": {
    "colab": {
      "provenance": []
    },
    "kernelspec": {
      "name": "python3",
      "display_name": "Python 3"
    },
    "language_info": {
      "name": "python"
    }
  },
  "cells": [
    {
      "cell_type": "code",
      "execution_count": 2,
      "metadata": {
        "colab": {
          "base_uri": "https://localhost:8080/"
        },
        "id": "cmodsnZ0J0SO",
        "outputId": "335be6a0-26e5-44fa-911f-da9dcc4dd261"
      },
      "outputs": [
        {
          "output_type": "stream",
          "name": "stdout",
          "text": [
            "一番売上高が高かったのはターミネーターで、19000円でした。\n",
            "\n",
            "現在のパイレーツオブカリビアンの在庫数は11です。\n",
            "現在のターミネーターの在庫数は42です。\n",
            "現在のホームアローンの在庫数は28です。\n",
            "現在のハリーポッターの在庫数は17です。\n"
          ]
        }
      ],
      "source": [
        "import random\n",
        "\n",
        "class Product:\n",
        "    def __init__(self,movie,price,category,stock):\n",
        "        self.movie = movie\n",
        "        self.price = price\n",
        "        self.category = category\n",
        "        self.stock = stock\n",
        "\n",
        "    def update_stock(self,number_of_sold):\n",
        "        if number_of_sold <= self.stock:\n",
        "            self.stock -= number_of_sold\n",
        "    #オブジェクトの生成\n",
        "movies=[\n",
        "    Product(\"パイレーツオブカリビアン\",100,\"\",50),\n",
        "    Product(\"ターミネーター\",500,\"\",80),\n",
        "    Product(\"ホームアローン\",250,\"\",50),\n",
        "    Product(\"ハリーポッター\",300,\"\",80)\n",
        "]\n",
        "\n",
        "#その日の一番売上が高かった商品名\n",
        "top_product_name = \"\"\n",
        "top_product_price = 0\n",
        "#その日の売上が一番高かった値段\n",
        "\n",
        "#日々値段は変動しないが、在庫は日々変動するため、在庫にランダム関数をかける。\n",
        "for i in movies:\n",
        "    number_of_sold = random.randint(0,i.stock)\n",
        "    total_sales_for_a_day = i.price * number_of_sold\n",
        "   #print({ number_of_sold},{ total_sales_for_a_day})\n",
        "#売り上げが最大の時に更新する\n",
        "    if total_sales_for_a_day > top_product_price:\n",
        "        top_product_price = total_sales_for_a_day\n",
        "        top_product_name = i.movie\n",
        "\n",
        "    i.update_stock(number_of_sold)\n",
        "#更新された\"update_stock\"を表示させる。\n",
        "\n",
        "\n",
        "\n",
        "print(f\"一番売上高が高かったのは{top_product_name}で、{top_product_price}円でした。\\n\")\n",
        "\n",
        "for i in movies:\n",
        "    print(f\"現在の{i.movie}の在庫数は{i.stock}です。\")"
      ]
    },
    {
      "cell_type": "code",
      "source": [],
      "metadata": {
        "id": "IVqnI3gAJ11V"
      },
      "execution_count": null,
      "outputs": []
    }
  ]
}