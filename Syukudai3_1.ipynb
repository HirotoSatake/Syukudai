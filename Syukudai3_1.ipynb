{
  "nbformat": 4,
  "nbformat_minor": 0,
  "metadata": {
    "colab": {
      "provenance": []
    },
    "kernelspec": {
      "name": "python3",
      "display_name": "Python 3"
    },
    "language_info": {
      "name": "python"
    }
  },
  "cells": [
    {
      "cell_type": "code",
      "source": [
        "# Productクラス\n",
        "class Product:\n",
        "    def __init__(self, name, price, stock, category):\n",
        "        self.name = name\n",
        "        self.price = price\n",
        "        self.stock = stock\n",
        "        self.category = category  # 文字列のカテゴリ名\n",
        "\n",
        "    #在庫数を更新する関数\n",
        "    def update_stock(self, sold):\n",
        "        if sold <= self.stock:\n",
        "            self.stock -= sold\n",
        "        else:\n",
        "            print(f\"在庫が足りません（{self.name}）\")\n",
        "\n",
        "    def input_data():\n",
        "        name = input(\"商品名を入力してください。\")\n",
        "        price = input(\"値段を入力してください。\")\n",
        "        stock = int(input(\"在庫数を入力してください。\"))\n",
        "        category = input(\"カテゴリを入力してください。\")\n",
        "\n",
        "        sale = {\"商品名\":name,\"単価\":price,\"在庫数\":stock,\"カテゴリ\":category}\n",
        "\n",
        "        sales_records.append(Product(name,price,stock,category))\n",
        "        return sale#Product(name, price, stock, category)\n",
        "\n",
        "#カテゴリごとの売上を記録する辞書（カテゴリ名をキーにする）\n",
        "category_sales = {}\n",
        "\n",
        "sales_records = []\n",
        "#売上金額が一番高かった商品を更新するための変数\n",
        "top_product_name = \"\"\n",
        "top_sales = 0\n",
        "\n",
        "#各商品の売上を計算\n",
        "for product in sales_records:\n",
        "    sold =input(f\"{product.name}の販売数を入力してください。\")  #inputによって入力した数字をsoldに代入する。\n",
        "    total_sales = product.price * sold  # 売上金額を計算\n",
        "\n",
        "    product.update_stock(sold)  # 在庫更新\n",
        "\n",
        "    #カテゴリごとの売上を記録\n",
        "    if product.category not in category_sales:\n",
        "        category_sales[product.category] = 0\n",
        "    category_sales[product.category] += total_sales\n",
        "\n",
        "    #売上が最大の時に更新\n",
        "    if total_sales > top_sales:\n",
        "        top_sales = total_sales\n",
        "        top_product_name = product.name\n",
        "\n",
        "#最も売れたカテゴリを取得\n",
        "top_categories_name = max(category_sales, key=category_sales.get,default=\"データなし\")\n",
        "\n",
        "#結果を出力\n",
        "print(f\"一番売上が高かったのは「{top_product_name}」で、{top_sales}円でした。\")\n",
        "print(f\"カテゴリ別では、「{top_categories_name}」カテゴリが最も売れました。カテゴリ別売上内訳: {category_sales}円\")\n"
      ],
      "metadata": {
        "id": "sYj9po6VKmKx",
        "colab": {
          "base_uri": "https://localhost:8080/"
        },
        "outputId": "86518c6b-6143-4fb3-b7e8-16206f80b013"
      },
      "execution_count": 7,
      "outputs": [
        {
          "output_type": "stream",
          "name": "stdout",
          "text": [
            "一番売上が高かったのは「」で、0円でした。\n",
            "カテゴリ別では、「データなし」カテゴリが最も売れました。カテゴリ別売上内訳: {}円\n"
          ]
        }
      ]
    },
    {
      "cell_type": "markdown",
      "source": [],
      "metadata": {
        "id": "vvwo8kdQtrPT"
      }
    },
    {
      "cell_type": "code",
      "source": [],
      "metadata": {
        "id": "Ff485kE_UIaL"
      },
      "execution_count": null,
      "outputs": []
    }
  ]
}