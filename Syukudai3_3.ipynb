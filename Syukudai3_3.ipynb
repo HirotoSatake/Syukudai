{
  "nbformat": 4,
  "nbformat_minor": 0,
  "metadata": {
    "colab": {
      "provenance": []
    },
    "kernelspec": {
      "name": "python3",
      "display_name": "Python 3"
    },
    "language_info": {
      "name": "python"
    }
  },
  "cells": [
    {
      "cell_type": "markdown",
      "source": [],
      "metadata": {
        "id": "vvwo8kdQtrPT"
      }
    },
    {
      "cell_type": "code",
      "source": [
        "\n",
        "\n",
        "# Productクラス\n",
        "class Product:\n",
        "    def __init__(self, name, price, stock, category):\n",
        "        self.name = name\n",
        "        self.price = price\n",
        "        self.stock = stock\n",
        "        self.category = category  # 文字列のカテゴリ名\n",
        "\n",
        "    #在庫数を更新する関数\n",
        "    def update_stock(self, sold):\n",
        "        if sold <= self.stock:\n",
        "            self.stock -= sold\n",
        "        else:\n",
        "            print(f\"在庫が足りません（{self.name}）\")\n",
        "\n",
        "products = []\n",
        "#タイトル入力の回数を最初に入力\n",
        "count_title = int(input(\"登録する個数を入力して下さい。：\"))/n\n",
        "#その数だけ入力できるようにする。(count_titleの数だけ0,1,2...を（name、price,stock、category）と回していく。)\n",
        "for i in range(count_title):\n",
        "    name = input(\"タイトルを入力して下さい。:\")\n",
        "    price = int(input(\"値段を入力して下さい。:\"))\n",
        "    stock = int(input(\"在庫数を入力して下さい。:\"))\n",
        "    category = input(\"カテゴリを入力して下さい。:\")\n",
        "    products.append(Product(name,price,stock,category))\n",
        "\n",
        "\n",
        "\n",
        "#カテゴリごとの売上を記録する辞書\n",
        "category_sales = {}\n",
        "\n",
        "#売上金額が一番高かった商品を更新するための変数\n",
        "top_product_name = \"\"\n",
        "top_sales = 0\n",
        "\n",
        "#各商品の売上を計算\n",
        "for product in products:\n",
        "    sold =int(input(f\"{product.name}の販売数を入力してください。\"))#inputによって入力した数字をsoldに代入する。\n",
        "    total_sales = product.price * sold  # 売上金額を計算\n",
        "\n",
        "    product.update_stock(sold)  # 在庫更新\n",
        "\n",
        "    #カテゴリごとの売上を記録\n",
        "    if product.category not in category_sales:\n",
        "        category_sales[product.category] = 0\n",
        "        category_sales[product.category] += total_sales\n",
        "\n",
        "    #売上が最大の時に更新\n",
        "    if total_sales > top_sales:\n",
        "        top_sales = total_sales\n",
        "        top_product_name = product.name\n",
        "\n",
        "#最も売れたカテゴリを取得\n",
        "top_categories_name = max(category_sales, key=category_sales.get)/n\n",
        "\n",
        "#結果を出力\n",
        "print(f\"一番売上が高かったのは「{top_product_name}」で、{top_sales}円でした。\")\n",
        "print(f\"カテゴリ別では、「{top_categories_name}」カテゴリが最も売れました。カテゴリ別売上内訳: {category_sales}円\")"
      ],
      "metadata": {
        "colab": {
          "base_uri": "https://localhost:8080/"
        },
        "id": "Ff485kE_UIaL",
        "outputId": "d66149aa-76c2-446e-c6c5-58fb4fdb508c"
      },
      "execution_count": 7,
      "outputs": [
        {
          "output_type": "stream",
          "name": "stdout",
          "text": [
            "登録する個数を入力して下さい。：2\n",
            "タイトルを入力して下さい。:koko\n",
            "値段を入力して下さい。:200\n",
            "在庫数を入力して下さい。:20\n",
            "カテゴリを入力して下さい。:koko\n",
            "タイトルを入力して下さい。:hatisuke\n",
            "値段を入力して下さい。:200\n",
            "在庫数を入力して下さい。:19\n",
            "カテゴリを入力して下さい。:kiki\n",
            "kokoの販売数を入力してください。20\n",
            "hatisukeの販売数を入力してください。25\n",
            "在庫が足りません（hatisuke）\n",
            "一番売上が高かったのは「hatisuke」で、5000円でした。\n",
            "カテゴリ別では、「kiki」カテゴリが最も売れました。カテゴリ別売上内訳: {'koko': 4000, 'kiki': 5000}円\n"
          ]
        }
      ]
    },
    {
      "cell_type": "code",
      "source": [
        "\n",
        "def nibai(x):\n",
        "    return x * 2\n",
        "y = nibai(4)\n",
        "print(y)\n",
        "   グローバルスコープ（外側）で処理したいときに使用できる。"
      ],
      "metadata": {
        "colab": {
          "base_uri": "https://localhost:8080/"
        },
        "id": "2pdq169aHeHA",
        "outputId": "b1b1199a-d93d-4957-ee2d-f127816cce96"
      },
      "execution_count": 11,
      "outputs": [
        {
          "output_type": "stream",
          "name": "stdout",
          "text": [
            "8\n"
          ]
        }
      ]
    },
    {
      "cell_type": "code",
      "source": [],
      "metadata": {
        "id": "TusrTho2AEvJ"
      },
      "execution_count": null,
      "outputs": []
    }
  ]
}