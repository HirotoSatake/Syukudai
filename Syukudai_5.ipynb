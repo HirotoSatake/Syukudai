{
  "nbformat": 4,
  "nbformat_minor": 0,
  "metadata": {
    "colab": {
      "provenance": []
    },
    "kernelspec": {
      "name": "python3",
      "display_name": "Python 3"
    },
    "language_info": {
      "name": "python"
    }
  },
  "cells": [
    {
      "cell_type": "code",
      "execution_count": 24,
      "metadata": {
        "id": "FTsgokZ6Q6Na"
      },
      "outputs": [],
      "source": [
        "import numpy as np"
      ]
    },
    {
      "cell_type": "code",
      "source": [
        "#1\n",
        "array_1 = np.array([0,0,0,0,0,0,0,0,0,0])"
      ],
      "metadata": {
        "id": "lcTisooMUyfc"
      },
      "execution_count": 74,
      "outputs": []
    },
    {
      "cell_type": "code",
      "source": [
        "#2\n",
        "array_2 = np.array([1,1,1,1,1])"
      ],
      "metadata": {
        "id": "7G2ySDS2VFUc"
      },
      "execution_count": 75,
      "outputs": []
    },
    {
      "cell_type": "code",
      "source": [
        "#3\n",
        "array_3 =np.array([1,2,3,4,5,6,7,8,9,10])"
      ],
      "metadata": {
        "id": "7vB5o8hOVQHN"
      },
      "execution_count": 76,
      "outputs": []
    },
    {
      "cell_type": "code",
      "source": [
        "#4\n",
        "array_3[5] = 100\n",
        "print(array_3)"
      ],
      "metadata": {
        "colab": {
          "base_uri": "https://localhost:8080/"
        },
        "id": "qaFiEuzuVV-_",
        "outputId": "3d8d5b28-ca73-4dae-f8f0-ccfaaaf1bea6"
      },
      "execution_count": 98,
      "outputs": [
        {
          "output_type": "stream",
          "name": "stdout",
          "text": [
            "[  1   2   3   4   5 100   7   8   9  10]\n"
          ]
        }
      ]
    },
    {
      "cell_type": "code",
      "source": [
        "#5\n",
        "reserved_array = array_3[::-1]\n",
        "\n",
        "print(reserved_array)"
      ],
      "metadata": {
        "id": "3tJSZg0JYg9F"
      },
      "execution_count": 79,
      "outputs": []
    },
    {
      "cell_type": "code",
      "source": [
        "#6\n",
        "multi_array = np.array([[1,2,3],[1,2,3],[1,2,3]])\n",
        "\n",
        "print(multi_array)"
      ],
      "metadata": {
        "id": "mMtLGuUBZiXr",
        "outputId": "ad9f1efe-743f-4584-d989-3ead281f53f8",
        "colab": {
          "base_uri": "https://localhost:8080/"
        }
      },
      "execution_count": 99,
      "outputs": [
        {
          "output_type": "stream",
          "name": "stdout",
          "text": [
            "[[1 2 3]\n",
            " [1 2 3]\n",
            " [1 2 3]]\n"
          ]
        }
      ]
    },
    {
      "cell_type": "code",
      "source": [
        "#7\n",
        "a = np.array([[1,2,3]])\n",
        "b = np.array([[4,5,6]])\n",
        "\n",
        "print(a+b)"
      ],
      "metadata": {
        "id": "EKTZYOyqaPEH",
        "outputId": "a4cfabde-02e0-4631-d3d1-2d0d7ea1d000",
        "colab": {
          "base_uri": "https://localhost:8080/"
        }
      },
      "execution_count": 100,
      "outputs": [
        {
          "output_type": "stream",
          "name": "stdout",
          "text": [
            "[[5 7 9]]\n"
          ]
        }
      ]
    },
    {
      "cell_type": "code",
      "source": [],
      "metadata": {
        "id": "edTCy1X-fr9M"
      },
      "execution_count": null,
      "outputs": []
    }
  ]
}