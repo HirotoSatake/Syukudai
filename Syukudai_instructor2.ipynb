{
  "nbformat": 4,
  "nbformat_minor": 0,
  "metadata": {
    "colab": {
      "provenance": []
    },
    "kernelspec": {
      "name": "python3",
      "display_name": "Python 3"
    },
    "language_info": {
      "name": "python"
    }
  },
  "cells": [
    {
      "cell_type": "code",
      "source": [
        "import random\n",
        "\n",
        "# Productクラス①\n",
        "class Product:\n",
        "    def __init__(self, name, price, stock_list):\n",
        "        self.name = name  # 商品名（映画名）\n",
        "        self.price = price  # 価格\n",
        "        self.stock_list = stock_list  # 在庫数のリスト\n",
        "\n",
        "    # 在庫数を更新する関数②\n",
        "    def update_stock(self, sold):\n",
        "        if sold <= self.stock_list[0]:  # 売れた数が在庫数を超えない場合\n",
        "            self.stock_list[0] -= sold  # 在庫数を更新\n",
        "        else:\n",
        "            print(\"在庫が足りません。\")\n",
        "\n",
        "\n",
        "# ４つの映画のリスト（タイトル、値段、在庫数）③\n",
        "products = [\n",
        "    Product(\"ターミネーター\", 1500, [100]),\n",
        "    Product(\"パイレーツ\", 1200, [80]),\n",
        "    Product(\"ブレイキングバッド\", 1000, [120]),\n",
        "    Product(\"マトリックス\", 1800, [50])\n",
        "]\n",
        "\n",
        "# 売上金額が一番高かった商品を更新する為の変数④\n",
        "top_product_name = \"\"  # 一番売れた商品の名前を代入する為の変数。\n",
        "top_sales = 0 #一番売れた商品の金額を代入するための変数。\n",
        "\n",
        "# 各商品について売れた数をランダムに生成し、売上金額を計算⑤\n",
        "for product in products:  # \"product\"は↑のリストの商品を意味しているただの名称。\n",
        "    sold = random.randint(0, max(product.stock_list))  # その日の売れた数（在庫数からランダムに生成）\n",
        "    total_sales = product.price * sold  # それぞれの商品の価格✖︎それぞれの売上金額\n",
        "\n",
        "    # 売上が最大の時に更新⑥\n",
        "    if total_sales > top_sales:\n",
        "        top_sales = total_sales\n",
        "        top_product_name = product.name\n",
        "\n",
        "\n",
        "# 結果を表示⑦\n",
        "print(f\"一番売上が高かったのは「{top_product_name}」で、{top_sales}円でした。\")\n",
        "\n"
      ],
      "metadata": {
        "colab": {
          "base_uri": "https://localhost:8080/"
        },
        "id": "WHpNW2i3sMld",
        "outputId": "1aba3b07-93f2-4f5e-f0f4-390c81d70037"
      },
      "execution_count": 131,
      "outputs": [
        {
          "output_type": "stream",
          "name": "stdout",
          "text": [
            "一番売上高が高かったのは「パイレーツ」で、80400円でした。\n"
          ]
        }
      ]
    }
  ]
}