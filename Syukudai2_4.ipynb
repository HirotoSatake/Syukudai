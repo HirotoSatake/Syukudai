{
  "nbformat": 4,
  "nbformat_minor": 0,
  "metadata": {
    "colab": {
      "provenance": []
    },
    "kernelspec": {
      "name": "python3",
      "display_name": "Python 3"
    },
    "language_info": {
      "name": "python"
    }
  },
  "cells": [
    {
      "cell_type": "code",
      "source": [
        "import random\n",
        "\n",
        "# Productクラス\n",
        "class Product:\n",
        "    def __init__(self, name, price, stock, category):\n",
        "        self.name = name\n",
        "        self.price = price\n",
        "        self.stock = stock\n",
        "        self.category = category  # 文字列のカテゴリ名\n",
        "\n",
        "    #在庫数を更新する関数\n",
        "    def update_stock(self, sold):\n",
        "        if sold <= self.stock:\n",
        "            self.stock -= sold\n",
        "        else:\n",
        "            print(f\"在庫が足りません（{self.name}）\")\n",
        "\n",
        "\n",
        "#商品リスト（タイトル、値段、在庫数、カテゴリ）\n",
        "products = [\n",
        "    Product(\"ターミネーター\", 1500, 100, \"SF\"),\n",
        "    Product(\"パイレーツ２\", 1200, 80, \"SF\"),\n",
        "    Product(\"スパイダーマン\", 1500, 100, \"Action\"),\n",
        "    Product(\"パイレーツ\", 1200, 80, \"Action\"),\n",
        "    Product(\"ブレイキングバッド\", 1000, 120, \"Human\"),\n",
        "    Product(\"ブレイキングバッド３\", 1000, 120, \"Human\"),\n",
        "    Product(\"マトリックス\", 1800, 50, \"Horror\"),\n",
        "    Product(\"マトリックス１０\", 1800, 50, \"Horror\")\n",
        "]\n",
        "\n",
        "#カテゴリごとの売上を記録する辞書（カテゴリ名をキーにする）\n",
        "category_sales = {}\n",
        "\n",
        "#売上金額が一番高かった商品を更新するための変数\n",
        "top_product_name = \"\"\n",
        "top_sales = 0\n",
        "\n",
        "#各商品の売上を計算\n",
        "for product in products:\n",
        "    sold = random.randint(0, product.stock)  # ランダムに売れた数を決定\n",
        "    total_sales = product.price * sold  # 売上金額を計算\n",
        "\n",
        "    product.update_stock(sold)  # 在庫更新\n",
        "\n",
        "    #カテゴリごとの売上を記録（辞書を動的に作成）\n",
        "    if product.category not in category_sales:\n",
        "        category_sales[product.category] = 0\n",
        "    category_sales[product.category] += total_sales\n",
        "\n",
        "    #売上が最大の時に更新\n",
        "    if total_sales > top_sales:\n",
        "        top_sales = total_sales\n",
        "        top_product_name = product.name\n",
        "\n",
        "#最も売れたカテゴリを取得\n",
        "top_categories_name = max(category_sales, key=category_sales.get)\n",
        "\n",
        "#結果を出力\n",
        "print(f\"一番売上が高かったのは「{top_product_name}」で、{top_sales}円でした。\")\n",
        "print(f\"カテゴリ別では、「{top_categories_name}」カテゴリが最も売れました。カテゴリ別売上内訳: {category_sales}円\")\n"
      ],
      "metadata": {
        "id": "sYj9po6VKmKx",
        "colab": {
          "base_uri": "https://localhost:8080/"
        },
        "outputId": "81079b0d-93bf-454e-dba6-8354ab66f94a"
      },
      "execution_count": 1,
      "outputs": [
        {
          "output_type": "stream",
          "name": "stdout",
          "text": [
            "一番売上が高かったのは「ターミネーター」で、133500円でした。\n",
            "カテゴリ別では、「SF」カテゴリが最も売れました。カテゴリ別売上内訳: {'SF': 182700, 'Action': 99900, 'Human': 172000, 'Horror': 93600}円\n"
          ]
        }
      ]
    }
  ]
}